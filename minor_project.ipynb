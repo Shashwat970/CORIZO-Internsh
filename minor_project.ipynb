{
 "cells": [
  {
   "cell_type": "code",
   "execution_count": 2,
   "id": "6b61a703-f977-4bd5-9836-6f665bb5e895",
   "metadata": {
    "tags": []
   },
   "outputs": [
    {
     "data": {
      "text/html": [
       "<div>\n",
       "<style scoped>\n",
       "    .dataframe tbody tr th:only-of-type {\n",
       "        vertical-align: middle;\n",
       "    }\n",
       "\n",
       "    .dataframe tbody tr th {\n",
       "        vertical-align: top;\n",
       "    }\n",
       "\n",
       "    .dataframe thead th {\n",
       "        text-align: right;\n",
       "    }\n",
       "</style>\n",
       "<table border=\"1\" class=\"dataframe\">\n",
       "  <thead>\n",
       "    <tr style=\"text-align: right;\">\n",
       "      <th></th>\n",
       "      <th>Date</th>\n",
       "      <th>Open</th>\n",
       "      <th>High</th>\n",
       "      <th>Low</th>\n",
       "      <th>Close</th>\n",
       "      <th>Adj Close</th>\n",
       "      <th>Volume</th>\n",
       "    </tr>\n",
       "  </thead>\n",
       "  <tbody>\n",
       "    <tr>\n",
       "      <th>0</th>\n",
       "      <td>2018-02-05</td>\n",
       "      <td>262.000000</td>\n",
       "      <td>267.899994</td>\n",
       "      <td>250.029999</td>\n",
       "      <td>254.259995</td>\n",
       "      <td>254.259995</td>\n",
       "      <td>11896100</td>\n",
       "    </tr>\n",
       "    <tr>\n",
       "      <th>1</th>\n",
       "      <td>2018-02-06</td>\n",
       "      <td>247.699997</td>\n",
       "      <td>266.700012</td>\n",
       "      <td>245.000000</td>\n",
       "      <td>265.720001</td>\n",
       "      <td>265.720001</td>\n",
       "      <td>12595800</td>\n",
       "    </tr>\n",
       "    <tr>\n",
       "      <th>2</th>\n",
       "      <td>2018-02-07</td>\n",
       "      <td>266.579987</td>\n",
       "      <td>272.450012</td>\n",
       "      <td>264.329987</td>\n",
       "      <td>264.559998</td>\n",
       "      <td>264.559998</td>\n",
       "      <td>8981500</td>\n",
       "    </tr>\n",
       "    <tr>\n",
       "      <th>3</th>\n",
       "      <td>2018-02-08</td>\n",
       "      <td>267.079987</td>\n",
       "      <td>267.619995</td>\n",
       "      <td>250.000000</td>\n",
       "      <td>250.100006</td>\n",
       "      <td>250.100006</td>\n",
       "      <td>9306700</td>\n",
       "    </tr>\n",
       "    <tr>\n",
       "      <th>4</th>\n",
       "      <td>2018-02-09</td>\n",
       "      <td>253.850006</td>\n",
       "      <td>255.800003</td>\n",
       "      <td>236.110001</td>\n",
       "      <td>249.470001</td>\n",
       "      <td>249.470001</td>\n",
       "      <td>16906900</td>\n",
       "    </tr>\n",
       "    <tr>\n",
       "      <th>...</th>\n",
       "      <td>...</td>\n",
       "      <td>...</td>\n",
       "      <td>...</td>\n",
       "      <td>...</td>\n",
       "      <td>...</td>\n",
       "      <td>...</td>\n",
       "      <td>...</td>\n",
       "    </tr>\n",
       "    <tr>\n",
       "      <th>1004</th>\n",
       "      <td>2022-01-31</td>\n",
       "      <td>401.970001</td>\n",
       "      <td>427.700012</td>\n",
       "      <td>398.200012</td>\n",
       "      <td>427.140015</td>\n",
       "      <td>427.140015</td>\n",
       "      <td>20047500</td>\n",
       "    </tr>\n",
       "    <tr>\n",
       "      <th>1005</th>\n",
       "      <td>2022-02-01</td>\n",
       "      <td>432.959991</td>\n",
       "      <td>458.480011</td>\n",
       "      <td>425.540009</td>\n",
       "      <td>457.130005</td>\n",
       "      <td>457.130005</td>\n",
       "      <td>22542300</td>\n",
       "    </tr>\n",
       "    <tr>\n",
       "      <th>1006</th>\n",
       "      <td>2022-02-02</td>\n",
       "      <td>448.250000</td>\n",
       "      <td>451.980011</td>\n",
       "      <td>426.480011</td>\n",
       "      <td>429.480011</td>\n",
       "      <td>429.480011</td>\n",
       "      <td>14346000</td>\n",
       "    </tr>\n",
       "    <tr>\n",
       "      <th>1007</th>\n",
       "      <td>2022-02-03</td>\n",
       "      <td>421.440002</td>\n",
       "      <td>429.260010</td>\n",
       "      <td>404.279999</td>\n",
       "      <td>405.600006</td>\n",
       "      <td>405.600006</td>\n",
       "      <td>9905200</td>\n",
       "    </tr>\n",
       "    <tr>\n",
       "      <th>1008</th>\n",
       "      <td>2022-02-04</td>\n",
       "      <td>407.309998</td>\n",
       "      <td>412.769989</td>\n",
       "      <td>396.640015</td>\n",
       "      <td>410.170013</td>\n",
       "      <td>410.170013</td>\n",
       "      <td>7782400</td>\n",
       "    </tr>\n",
       "  </tbody>\n",
       "</table>\n",
       "<p>1009 rows × 7 columns</p>\n",
       "</div>"
      ],
      "text/plain": [
       "            Date        Open        High         Low       Close   Adj Close  \\\n",
       "0     2018-02-05  262.000000  267.899994  250.029999  254.259995  254.259995   \n",
       "1     2018-02-06  247.699997  266.700012  245.000000  265.720001  265.720001   \n",
       "2     2018-02-07  266.579987  272.450012  264.329987  264.559998  264.559998   \n",
       "3     2018-02-08  267.079987  267.619995  250.000000  250.100006  250.100006   \n",
       "4     2018-02-09  253.850006  255.800003  236.110001  249.470001  249.470001   \n",
       "...          ...         ...         ...         ...         ...         ...   \n",
       "1004  2022-01-31  401.970001  427.700012  398.200012  427.140015  427.140015   \n",
       "1005  2022-02-01  432.959991  458.480011  425.540009  457.130005  457.130005   \n",
       "1006  2022-02-02  448.250000  451.980011  426.480011  429.480011  429.480011   \n",
       "1007  2022-02-03  421.440002  429.260010  404.279999  405.600006  405.600006   \n",
       "1008  2022-02-04  407.309998  412.769989  396.640015  410.170013  410.170013   \n",
       "\n",
       "        Volume  \n",
       "0     11896100  \n",
       "1     12595800  \n",
       "2      8981500  \n",
       "3      9306700  \n",
       "4     16906900  \n",
       "...        ...  \n",
       "1004  20047500  \n",
       "1005  22542300  \n",
       "1006  14346000  \n",
       "1007   9905200  \n",
       "1008   7782400  \n",
       "\n",
       "[1009 rows x 7 columns]"
      ]
     },
     "execution_count": 2,
     "metadata": {},
     "output_type": "execute_result"
    }
   ],
   "source": [
    "import pandas as pd\n",
    "import seaborn as sns\n",
    "df= pd.read_csv(r\"C:\\Users\\shash\\OneDrive\\Desktop\\GITfolder\\CORIZO-Internsh\\Minor_Project_Dataset.csv\", encoding='latin-1')\n",
    "df"
   ]
  },
  {
   "cell_type": "code",
   "execution_count": 3,
   "id": "845cd760-453f-4f70-9302-bdec96f497b5",
   "metadata": {
    "tags": []
   },
   "outputs": [
    {
     "data": {
      "text/plain": [
       "Index(['Date', 'Open', 'High', 'Low', 'Close', 'Adj Close', 'Volume'], dtype='object')"
      ]
     },
     "execution_count": 3,
     "metadata": {},
     "output_type": "execute_result"
    }
   ],
   "source": [
    "df.columns"
   ]
  },
  {
   "cell_type": "code",
   "execution_count": 4,
   "id": "ee45f941-605b-4d6e-b234-48aae6493d57",
   "metadata": {
    "tags": []
   },
   "outputs": [
    {
     "data": {
      "text/plain": [
       "Index(['Date'], dtype='object')"
      ]
     },
     "execution_count": 4,
     "metadata": {},
     "output_type": "execute_result"
    }
   ],
   "source": [
    "df.select_dtypes(['object']).columns"
   ]
  },
  {
   "cell_type": "code",
   "execution_count": 5,
   "id": "615bf193-50a3-4f55-9ff5-aa14417f71b2",
   "metadata": {
    "tags": []
   },
   "outputs": [
    {
     "data": {
      "text/plain": [
       "<bound method NDFrame.describe of             Date        Open        High         Low       Close   Adj Close  \\\n",
       "0     2018-02-05  262.000000  267.899994  250.029999  254.259995  254.259995   \n",
       "1     2018-02-06  247.699997  266.700012  245.000000  265.720001  265.720001   \n",
       "2     2018-02-07  266.579987  272.450012  264.329987  264.559998  264.559998   \n",
       "3     2018-02-08  267.079987  267.619995  250.000000  250.100006  250.100006   \n",
       "4     2018-02-09  253.850006  255.800003  236.110001  249.470001  249.470001   \n",
       "...          ...         ...         ...         ...         ...         ...   \n",
       "1004  2022-01-31  401.970001  427.700012  398.200012  427.140015  427.140015   \n",
       "1005  2022-02-01  432.959991  458.480011  425.540009  457.130005  457.130005   \n",
       "1006  2022-02-02  448.250000  451.980011  426.480011  429.480011  429.480011   \n",
       "1007  2022-02-03  421.440002  429.260010  404.279999  405.600006  405.600006   \n",
       "1008  2022-02-04  407.309998  412.769989  396.640015  410.170013  410.170013   \n",
       "\n",
       "        Volume  \n",
       "0     11896100  \n",
       "1     12595800  \n",
       "2      8981500  \n",
       "3      9306700  \n",
       "4     16906900  \n",
       "...        ...  \n",
       "1004  20047500  \n",
       "1005  22542300  \n",
       "1006  14346000  \n",
       "1007   9905200  \n",
       "1008   7782400  \n",
       "\n",
       "[1009 rows x 7 columns]>"
      ]
     },
     "execution_count": 5,
     "metadata": {},
     "output_type": "execute_result"
    }
   ],
   "source": [
    "df.describe"
   ]
  },
  {
   "cell_type": "code",
   "execution_count": 6,
   "id": "f7bfe220-d591-40a5-922d-7df69a1a9f59",
   "metadata": {
    "tags": []
   },
   "outputs": [
    {
     "name": "stdout",
     "output_type": "stream",
     "text": [
      "<class 'pandas.core.frame.DataFrame'>\n",
      "RangeIndex: 1009 entries, 0 to 1008\n",
      "Data columns (total 7 columns):\n",
      " #   Column     Non-Null Count  Dtype  \n",
      "---  ------     --------------  -----  \n",
      " 0   Date       1009 non-null   object \n",
      " 1   Open       1009 non-null   float64\n",
      " 2   High       1009 non-null   float64\n",
      " 3   Low        1009 non-null   float64\n",
      " 4   Close      1009 non-null   float64\n",
      " 5   Adj Close  1009 non-null   float64\n",
      " 6   Volume     1009 non-null   int64  \n",
      "dtypes: float64(5), int64(1), object(1)\n",
      "memory usage: 55.3+ KB\n"
     ]
    }
   ],
   "source": [
    "df.info()"
   ]
  },
  {
   "cell_type": "code",
   "execution_count": 7,
   "id": "7a361b91-6ec2-4ed7-aa3c-6029ab714944",
   "metadata": {
    "tags": []
   },
   "outputs": [
    {
     "data": {
      "text/plain": [
       "Date         0\n",
       "Open         0\n",
       "High         0\n",
       "Low          0\n",
       "Close        0\n",
       "Adj Close    0\n",
       "Volume       0\n",
       "dtype: int64"
      ]
     },
     "execution_count": 7,
     "metadata": {},
     "output_type": "execute_result"
    }
   ],
   "source": [
    "df.isna().sum()"
   ]
  },
  {
   "cell_type": "code",
   "execution_count": 8,
   "id": "e21b82ee-c2c2-4dcf-9d90-e98d6fc8f567",
   "metadata": {
    "tags": []
   },
   "outputs": [
    {
     "data": {
      "text/html": [
       "<div>\n",
       "<style scoped>\n",
       "    .dataframe tbody tr th:only-of-type {\n",
       "        vertical-align: middle;\n",
       "    }\n",
       "\n",
       "    .dataframe tbody tr th {\n",
       "        vertical-align: top;\n",
       "    }\n",
       "\n",
       "    .dataframe thead th {\n",
       "        text-align: right;\n",
       "    }\n",
       "</style>\n",
       "<table border=\"1\" class=\"dataframe\">\n",
       "  <thead>\n",
       "    <tr style=\"text-align: right;\">\n",
       "      <th></th>\n",
       "      <th>Date</th>\n",
       "      <th>Open</th>\n",
       "      <th>High</th>\n",
       "      <th>Low</th>\n",
       "      <th>Close</th>\n",
       "      <th>Adj Close</th>\n",
       "      <th>Volume</th>\n",
       "    </tr>\n",
       "  </thead>\n",
       "  <tbody>\n",
       "    <tr>\n",
       "      <th>0</th>\n",
       "      <td>2018-02-05</td>\n",
       "      <td>262.000000</td>\n",
       "      <td>267.899994</td>\n",
       "      <td>250.029999</td>\n",
       "      <td>254.259995</td>\n",
       "      <td>254.259995</td>\n",
       "      <td>11896100</td>\n",
       "    </tr>\n",
       "    <tr>\n",
       "      <th>1</th>\n",
       "      <td>2018-02-06</td>\n",
       "      <td>247.699997</td>\n",
       "      <td>266.700012</td>\n",
       "      <td>245.000000</td>\n",
       "      <td>265.720001</td>\n",
       "      <td>265.720001</td>\n",
       "      <td>12595800</td>\n",
       "    </tr>\n",
       "    <tr>\n",
       "      <th>2</th>\n",
       "      <td>2018-02-07</td>\n",
       "      <td>266.579987</td>\n",
       "      <td>272.450012</td>\n",
       "      <td>264.329987</td>\n",
       "      <td>264.559998</td>\n",
       "      <td>264.559998</td>\n",
       "      <td>8981500</td>\n",
       "    </tr>\n",
       "    <tr>\n",
       "      <th>3</th>\n",
       "      <td>2018-02-08</td>\n",
       "      <td>267.079987</td>\n",
       "      <td>267.619995</td>\n",
       "      <td>250.000000</td>\n",
       "      <td>250.100006</td>\n",
       "      <td>250.100006</td>\n",
       "      <td>9306700</td>\n",
       "    </tr>\n",
       "    <tr>\n",
       "      <th>4</th>\n",
       "      <td>2018-02-09</td>\n",
       "      <td>253.850006</td>\n",
       "      <td>255.800003</td>\n",
       "      <td>236.110001</td>\n",
       "      <td>249.470001</td>\n",
       "      <td>249.470001</td>\n",
       "      <td>16906900</td>\n",
       "    </tr>\n",
       "  </tbody>\n",
       "</table>\n",
       "</div>"
      ],
      "text/plain": [
       "         Date        Open        High         Low       Close   Adj Close  \\\n",
       "0  2018-02-05  262.000000  267.899994  250.029999  254.259995  254.259995   \n",
       "1  2018-02-06  247.699997  266.700012  245.000000  265.720001  265.720001   \n",
       "2  2018-02-07  266.579987  272.450012  264.329987  264.559998  264.559998   \n",
       "3  2018-02-08  267.079987  267.619995  250.000000  250.100006  250.100006   \n",
       "4  2018-02-09  253.850006  255.800003  236.110001  249.470001  249.470001   \n",
       "\n",
       "     Volume  \n",
       "0  11896100  \n",
       "1  12595800  \n",
       "2   8981500  \n",
       "3   9306700  \n",
       "4  16906900  "
      ]
     },
     "execution_count": 8,
     "metadata": {},
     "output_type": "execute_result"
    }
   ],
   "source": [
    "df.head(5)"
   ]
  },
  {
   "cell_type": "code",
   "execution_count": 9,
   "id": "8d459472-b849-41bb-b684-29973385ce1d",
   "metadata": {
    "tags": []
   },
   "outputs": [
    {
     "data": {
      "text/html": [
       "<div>\n",
       "<style scoped>\n",
       "    .dataframe tbody tr th:only-of-type {\n",
       "        vertical-align: middle;\n",
       "    }\n",
       "\n",
       "    .dataframe tbody tr th {\n",
       "        vertical-align: top;\n",
       "    }\n",
       "\n",
       "    .dataframe thead th {\n",
       "        text-align: right;\n",
       "    }\n",
       "</style>\n",
       "<table border=\"1\" class=\"dataframe\">\n",
       "  <thead>\n",
       "    <tr style=\"text-align: right;\">\n",
       "      <th></th>\n",
       "      <th>Date</th>\n",
       "      <th>Open</th>\n",
       "      <th>High</th>\n",
       "      <th>Low</th>\n",
       "      <th>Close</th>\n",
       "      <th>Adj Close</th>\n",
       "      <th>Volume</th>\n",
       "    </tr>\n",
       "  </thead>\n",
       "  <tbody>\n",
       "    <tr>\n",
       "      <th>1004</th>\n",
       "      <td>2022-01-31</td>\n",
       "      <td>401.970001</td>\n",
       "      <td>427.700012</td>\n",
       "      <td>398.200012</td>\n",
       "      <td>427.140015</td>\n",
       "      <td>427.140015</td>\n",
       "      <td>20047500</td>\n",
       "    </tr>\n",
       "    <tr>\n",
       "      <th>1005</th>\n",
       "      <td>2022-02-01</td>\n",
       "      <td>432.959991</td>\n",
       "      <td>458.480011</td>\n",
       "      <td>425.540009</td>\n",
       "      <td>457.130005</td>\n",
       "      <td>457.130005</td>\n",
       "      <td>22542300</td>\n",
       "    </tr>\n",
       "    <tr>\n",
       "      <th>1006</th>\n",
       "      <td>2022-02-02</td>\n",
       "      <td>448.250000</td>\n",
       "      <td>451.980011</td>\n",
       "      <td>426.480011</td>\n",
       "      <td>429.480011</td>\n",
       "      <td>429.480011</td>\n",
       "      <td>14346000</td>\n",
       "    </tr>\n",
       "    <tr>\n",
       "      <th>1007</th>\n",
       "      <td>2022-02-03</td>\n",
       "      <td>421.440002</td>\n",
       "      <td>429.260010</td>\n",
       "      <td>404.279999</td>\n",
       "      <td>405.600006</td>\n",
       "      <td>405.600006</td>\n",
       "      <td>9905200</td>\n",
       "    </tr>\n",
       "    <tr>\n",
       "      <th>1008</th>\n",
       "      <td>2022-02-04</td>\n",
       "      <td>407.309998</td>\n",
       "      <td>412.769989</td>\n",
       "      <td>396.640015</td>\n",
       "      <td>410.170013</td>\n",
       "      <td>410.170013</td>\n",
       "      <td>7782400</td>\n",
       "    </tr>\n",
       "  </tbody>\n",
       "</table>\n",
       "</div>"
      ],
      "text/plain": [
       "            Date        Open        High         Low       Close   Adj Close  \\\n",
       "1004  2022-01-31  401.970001  427.700012  398.200012  427.140015  427.140015   \n",
       "1005  2022-02-01  432.959991  458.480011  425.540009  457.130005  457.130005   \n",
       "1006  2022-02-02  448.250000  451.980011  426.480011  429.480011  429.480011   \n",
       "1007  2022-02-03  421.440002  429.260010  404.279999  405.600006  405.600006   \n",
       "1008  2022-02-04  407.309998  412.769989  396.640015  410.170013  410.170013   \n",
       "\n",
       "        Volume  \n",
       "1004  20047500  \n",
       "1005  22542300  \n",
       "1006  14346000  \n",
       "1007   9905200  \n",
       "1008   7782400  "
      ]
     },
     "execution_count": 9,
     "metadata": {},
     "output_type": "execute_result"
    }
   ],
   "source": [
    "df.tail(5)"
   ]
  },
  {
   "cell_type": "markdown",
   "id": "01c8d60a-43f5-494a-8be2-3d993c79b7db",
   "metadata": {},
   "source": [
    "<h3> CORRELATION BETWEEN EVERY COLUMNS</h3>"
   ]
  },
  {
   "cell_type": "code",
   "execution_count": 10,
   "id": "52037987-dc30-46d7-88a9-2d0100078773",
   "metadata": {
    "tags": []
   },
   "outputs": [
    {
     "data": {
      "text/plain": [
       "Index(['Date', 'Open', 'High', 'Low', 'Close', 'Adj Close', 'Volume'], dtype='object')"
      ]
     },
     "execution_count": 10,
     "metadata": {},
     "output_type": "execute_result"
    }
   ],
   "source": [
    "df.columns"
   ]
  },
  {
   "cell_type": "code",
   "execution_count": 11,
   "id": "447560ae-4ac3-4e88-81e1-928d88c46e43",
   "metadata": {
    "tags": []
   },
   "outputs": [
    {
     "data": {
      "text/html": [
       "<div>\n",
       "<style scoped>\n",
       "    .dataframe tbody tr th:only-of-type {\n",
       "        vertical-align: middle;\n",
       "    }\n",
       "\n",
       "    .dataframe tbody tr th {\n",
       "        vertical-align: top;\n",
       "    }\n",
       "\n",
       "    .dataframe thead th {\n",
       "        text-align: right;\n",
       "    }\n",
       "</style>\n",
       "<table border=\"1\" class=\"dataframe\">\n",
       "  <thead>\n",
       "    <tr style=\"text-align: right;\">\n",
       "      <th></th>\n",
       "      <th>Open</th>\n",
       "      <th>High</th>\n",
       "      <th>Low</th>\n",
       "      <th>Close</th>\n",
       "      <th>Adj Close</th>\n",
       "      <th>Volume</th>\n",
       "    </tr>\n",
       "  </thead>\n",
       "  <tbody>\n",
       "    <tr>\n",
       "      <th>Open</th>\n",
       "      <td>1.000000</td>\n",
       "      <td>0.998605</td>\n",
       "      <td>0.998508</td>\n",
       "      <td>0.996812</td>\n",
       "      <td>0.996812</td>\n",
       "      <td>-0.415838</td>\n",
       "    </tr>\n",
       "    <tr>\n",
       "      <th>High</th>\n",
       "      <td>0.998605</td>\n",
       "      <td>1.000000</td>\n",
       "      <td>0.998203</td>\n",
       "      <td>0.998551</td>\n",
       "      <td>0.998551</td>\n",
       "      <td>-0.400699</td>\n",
       "    </tr>\n",
       "    <tr>\n",
       "      <th>Low</th>\n",
       "      <td>0.998508</td>\n",
       "      <td>0.998203</td>\n",
       "      <td>1.000000</td>\n",
       "      <td>0.998544</td>\n",
       "      <td>0.998544</td>\n",
       "      <td>-0.432116</td>\n",
       "    </tr>\n",
       "    <tr>\n",
       "      <th>Close</th>\n",
       "      <td>0.996812</td>\n",
       "      <td>0.998551</td>\n",
       "      <td>0.998544</td>\n",
       "      <td>1.000000</td>\n",
       "      <td>1.000000</td>\n",
       "      <td>-0.413362</td>\n",
       "    </tr>\n",
       "    <tr>\n",
       "      <th>Adj Close</th>\n",
       "      <td>0.996812</td>\n",
       "      <td>0.998551</td>\n",
       "      <td>0.998544</td>\n",
       "      <td>1.000000</td>\n",
       "      <td>1.000000</td>\n",
       "      <td>-0.413362</td>\n",
       "    </tr>\n",
       "    <tr>\n",
       "      <th>Volume</th>\n",
       "      <td>-0.415838</td>\n",
       "      <td>-0.400699</td>\n",
       "      <td>-0.432116</td>\n",
       "      <td>-0.413362</td>\n",
       "      <td>-0.413362</td>\n",
       "      <td>1.000000</td>\n",
       "    </tr>\n",
       "  </tbody>\n",
       "</table>\n",
       "</div>"
      ],
      "text/plain": [
       "               Open      High       Low     Close  Adj Close    Volume\n",
       "Open       1.000000  0.998605  0.998508  0.996812   0.996812 -0.415838\n",
       "High       0.998605  1.000000  0.998203  0.998551   0.998551 -0.400699\n",
       "Low        0.998508  0.998203  1.000000  0.998544   0.998544 -0.432116\n",
       "Close      0.996812  0.998551  0.998544  1.000000   1.000000 -0.413362\n",
       "Adj Close  0.996812  0.998551  0.998544  1.000000   1.000000 -0.413362\n",
       "Volume    -0.415838 -0.400699 -0.432116 -0.413362  -0.413362  1.000000"
      ]
     },
     "execution_count": 11,
     "metadata": {},
     "output_type": "execute_result"
    }
   ],
   "source": [
    "df[['Open', 'High', 'Low', 'Close', 'Adj Close', 'Volume']].corr()"
   ]
  },
  {
   "cell_type": "code",
   "execution_count": 12,
   "id": "9f8d2db0-1e72-4930-9996-d9675f563492",
   "metadata": {
    "tags": []
   },
   "outputs": [
    {
     "data": {
      "text/plain": [
       "<Axes: >"
      ]
     },
     "execution_count": 12,
     "metadata": {},
     "output_type": "execute_result"
    },
    {
     "data": {
      "image/png": "[encoded data removed]",
      "text/plain": [
       "<Figure size 640x480 with 2 Axes>"
      ]
     },
     "metadata": {},
     "output_type": "display_data"
    }
   ],
   "source": [
    "sns.heatmap(df[['Open', 'High', 'Low', 'Close', 'Adj Close', 'Volume']].corr(),\n",
    "            cmap=sns.cubehelix_palette(as_cmap=True))"
   ]
  },
  {
   "cell_type": "code",
   "execution_count": 13,
   "id": "a8e82e04-9852-4b11-85f5-3a2aafd8494f",
   "metadata": {
    "tags": []
   },
   "outputs": [
    {
     "data": {
      "text/html": [
       "<div>\n",
       "<style scoped>\n",
       "    .dataframe tbody tr th:only-of-type {\n",
       "        vertical-align: middle;\n",
       "    }\n",
       "\n",
       "    .dataframe tbody tr th {\n",
       "        vertical-align: top;\n",
       "    }\n",
       "\n",
       "    .dataframe thead th {\n",
       "        text-align: right;\n",
       "    }\n",
       "</style>\n",
       "<table border=\"1\" class=\"dataframe\">\n",
       "  <thead>\n",
       "    <tr style=\"text-align: right;\">\n",
       "      <th></th>\n",
       "      <th>Date</th>\n",
       "      <th>Open</th>\n",
       "      <th>High</th>\n",
       "      <th>Low</th>\n",
       "      <th>Close</th>\n",
       "      <th>Adj Close</th>\n",
       "      <th>Volume</th>\n",
       "    </tr>\n",
       "  </thead>\n",
       "  <tbody>\n",
       "    <tr>\n",
       "      <th>0</th>\n",
       "      <td>2018-02-05</td>\n",
       "      <td>262.000000</td>\n",
       "      <td>267.899994</td>\n",
       "      <td>250.029999</td>\n",
       "      <td>254.259995</td>\n",
       "      <td>254.259995</td>\n",
       "      <td>11896100</td>\n",
       "    </tr>\n",
       "    <tr>\n",
       "      <th>1</th>\n",
       "      <td>2018-02-06</td>\n",
       "      <td>247.699997</td>\n",
       "      <td>266.700012</td>\n",
       "      <td>245.000000</td>\n",
       "      <td>265.720001</td>\n",
       "      <td>265.720001</td>\n",
       "      <td>12595800</td>\n",
       "    </tr>\n",
       "    <tr>\n",
       "      <th>2</th>\n",
       "      <td>2018-02-07</td>\n",
       "      <td>266.579987</td>\n",
       "      <td>272.450012</td>\n",
       "      <td>264.329987</td>\n",
       "      <td>264.559998</td>\n",
       "      <td>264.559998</td>\n",
       "      <td>8981500</td>\n",
       "    </tr>\n",
       "  </tbody>\n",
       "</table>\n",
       "</div>"
      ],
      "text/plain": [
       "         Date        Open        High         Low       Close   Adj Close  \\\n",
       "0  2018-02-05  262.000000  267.899994  250.029999  254.259995  254.259995   \n",
       "1  2018-02-06  247.699997  266.700012  245.000000  265.720001  265.720001   \n",
       "2  2018-02-07  266.579987  272.450012  264.329987  264.559998  264.559998   \n",
       "\n",
       "     Volume  \n",
       "0  11896100  \n",
       "1  12595800  \n",
       "2   8981500  "
      ]
     },
     "execution_count": 13,
     "metadata": {},
     "output_type": "execute_result"
    }
   ],
   "source": [
    "df.head(3)"
   ]
  },
  {
   "cell_type": "code",
   "execution_count": 23,
   "id": "f2e7a3a6-2eb4-4f05-91da-17bdaad79fb1",
   "metadata": {},
   "outputs": [
    {
     "name": "stdout",
     "output_type": "stream",
     "text": [
      "Model score: 0.9988639722716328\n"
     ]
    }
   ],
   "source": [
    "from sklearn.model_selection import train_test_split\n",
    "from sklearn.linear_model import LinearRegression\n",
    "\n",
    "# Separate features and target\n",
    "features = df[['Open', 'Close', 'Adj Close', 'Volume']]\n",
    "target = df[['High','Low']]\n",
    "\n",
    "# Split the data into training and testing sets\n",
    "X_train, X_test, y_train, y_test = train_test_split(features, target, test_size=0.25, random_state=42)\n",
    "\n",
    "# Create a linear regression model\n",
    "model = LinearRegression()\n",
    "\n",
    "# Train the model\n",
    "model.fit(X_train, y_train)\n",
    "\n",
    "# Evaluate the model\n",
    "score = model.score(X_test, y_test)\n",
    "\n",
    "# Print the model score\n",
    "print(f\"Model score: {score}\")"
   ]
  },
  {
   "cell_type": "code",
   "execution_count": 25,
   "id": "bd559794-81a4-4c7c-906c-3429a31d30c3",
   "metadata": {},
   "outputs": [],
   "source": [
    "import numpy as np\n",
    "from sklearn.metrics import mean_squared_error, r2_score\n",
    "\n",
    "def metrics(y_true, y_pred):\n",
    "    print(f'RMSE: ',mean_squared_error(y_true, y_pred) ** 0.5)\n",
    "    print(f'R_Squared_value: ',r2_score(y_true, y_pred))\n",
    "    \n",
    "def accuracy(y_true, y_pred):\n",
    "    errors = abs(y_true - y_pred)\n",
    "    mape =  100* np.mean(errors/y_true)\n",
    "    accuracy = 100 - mape\n",
    "    return accuracy"
   ]
  },
  {
   "cell_type": "code",
   "execution_count": 26,
   "id": "b2de510d-b243-4f17-93b0-10c6c15d081f",
   "metadata": {
    "tags": []
   },
   "outputs": [],
   "source": [
    "y_pred= model.predict(X_test) "
   ]
  },
  {
   "cell_type": "code",
   "execution_count": 27,
   "id": "eed761dd-2eb1-4f7e-a4d0-9c665533864f",
   "metadata": {
    "tags": []
   },
   "outputs": [
    {
     "data": {
      "text/plain": [
       "array([[510.6526591 , 497.1394655 ],\n",
       "       [507.4271537 , 492.42360661],\n",
       "       [510.76738008, 497.25199078],\n",
       "       [387.32515913, 378.03021713],\n",
       "       [327.1556212 , 310.10249116],\n",
       "       [485.69284648, 470.67248691],\n",
       "       [496.15240775, 483.37430237],\n",
       "       [308.42805932, 296.41358155],\n",
       "       [362.62122292, 352.7045425 ],\n",
       "       [330.63956494, 323.80811313],\n",
       "       [524.87424044, 512.20726242],\n",
       "       [338.75658048, 329.71958221],\n",
       "       [603.78543726, 586.98303137],\n",
       "       [317.65409174, 309.69562888],\n",
       "       [341.91346667, 330.82837364],\n",
       "       [558.42179375, 544.40654416],\n",
       "       [542.3640158 , 527.77837002],\n",
       "       [619.84405354, 605.14448322],\n",
       "       [364.22169133, 346.4066792 ],\n",
       "       [402.017327  , 388.01061929],\n",
       "       [395.54017841, 370.9522466 ],\n",
       "       [381.29890989, 363.12214155],\n",
       "       [271.26898912, 262.01113524],\n",
       "       [361.69949441, 340.63279886],\n",
       "       [436.29048406, 425.19683764],\n",
       "       [373.01144018, 360.16591416],\n",
       "       [314.41057913, 306.0248163 ],\n",
       "       [362.81648083, 351.14786113],\n",
       "       [303.56815491, 295.70027723],\n",
       "       [517.03105118, 505.56274399],\n",
       "       [568.13420625, 555.08594213],\n",
       "       [516.90444316, 504.04524756],\n",
       "       [422.99770806, 407.3456411 ],\n",
       "       [339.13566027, 326.7564148 ],\n",
       "       [517.01473321, 504.57280815],\n",
       "       [354.15102834, 338.24915012],\n",
       "       [583.09556561, 567.37871393],\n",
       "       [298.28487903, 284.17256555],\n",
       "       [363.5533028 , 351.18212115],\n",
       "       [373.14381429, 362.14775706],\n",
       "       [359.28944472, 340.76613968],\n",
       "       [359.44614348, 349.19344507],\n",
       "       [349.60639984, 340.76327903],\n",
       "       [622.64166153, 607.76712237],\n",
       "       [379.28634488, 367.83199935],\n",
       "       [367.76635824, 358.64030864],\n",
       "       [312.08656306, 303.87156278],\n",
       "       [629.92536481, 610.63787345],\n",
       "       [514.93622893, 499.07517392],\n",
       "       [555.38245061, 542.30400026],\n",
       "       [497.12060181, 482.31964479],\n",
       "       [520.42785513, 506.85265849],\n",
       "       [315.75132706, 307.6464828 ],\n",
       "       [495.33095426, 481.4195847 ],\n",
       "       [429.18275432, 416.8486929 ],\n",
       "       [582.90756087, 563.83816425],\n",
       "       [315.29950096, 307.25062802],\n",
       "       [320.25987376, 305.03188022],\n",
       "       [333.12461801, 318.41809506],\n",
       "       [319.29472265, 311.1922322 ],\n",
       "       [518.7563572 , 506.39455416],\n",
       "       [292.26573688, 270.49919349],\n",
       "       [282.19780652, 273.7045505 ],\n",
       "       [490.82524614, 477.41759875],\n",
       "       [523.96798112, 511.87720477],\n",
       "       [333.19183189, 325.42782222],\n",
       "       [294.49375258, 288.80582109],\n",
       "       [291.373537  , 281.45624534],\n",
       "       [350.62177717, 341.69045291],\n",
       "       [638.88711478, 622.87207304],\n",
       "       [423.29424224, 408.89175876],\n",
       "       [269.28888457, 259.49382782],\n",
       "       [276.72111362, 269.46156365],\n",
       "       [347.00563015, 330.9354002 ],\n",
       "       [528.84578629, 515.83436261],\n",
       "       [373.06297592, 359.30221222],\n",
       "       [313.10816133, 304.14634125],\n",
       "       [643.47126197, 626.10362773],\n",
       "       [290.4673089 , 277.76661908],\n",
       "       [447.41907901, 427.30429852],\n",
       "       [492.09321067, 479.50982999],\n",
       "       [373.33504638, 364.12520146],\n",
       "       [334.69482062, 326.24320054],\n",
       "       [364.24414555, 354.88365197],\n",
       "       [331.9675786 , 324.06924357],\n",
       "       [587.49716249, 573.31726503],\n",
       "       [501.49684079, 486.99291131],\n",
       "       [496.0143778 , 482.33874869],\n",
       "       [369.28330011, 360.30647802],\n",
       "       [554.9464406 , 539.82720232],\n",
       "       [472.81784931, 459.55082247],\n",
       "       [661.98294933, 645.49657208],\n",
       "       [431.15136902, 413.55830774],\n",
       "       [277.72502356, 267.90132244],\n",
       "       [570.29521428, 555.49155051],\n",
       "       [387.99920284, 378.31107325],\n",
       "       [308.61388886, 290.08975067],\n",
       "       [345.43128426, 334.36551942],\n",
       "       [367.96304863, 359.35560323],\n",
       "       [328.55537306, 319.29415661],\n",
       "       [508.84953951, 496.64060935],\n",
       "       [458.12918655, 446.07285453],\n",
       "       [276.22316413, 265.493359  ],\n",
       "       [476.41541   , 462.14919978],\n",
       "       [390.15751638, 376.73833635],\n",
       "       [371.53153537, 362.22170298],\n",
       "       [517.20982268, 502.43382279],\n",
       "       [527.0198951 , 514.73264008],\n",
       "       [636.84117972, 621.07650426],\n",
       "       [687.16104724, 666.77865397],\n",
       "       [510.48119624, 491.18491671],\n",
       "       [535.63863198, 517.05865488],\n",
       "       [521.48966667, 507.9757959 ],\n",
       "       [529.28851598, 513.27652502],\n",
       "       [374.2285598 , 365.7904884 ],\n",
       "       [363.7255818 , 354.67956739],\n",
       "       [531.69331635, 518.72177983],\n",
       "       [371.50996956, 360.34673475],\n",
       "       [382.35843197, 369.76606431],\n",
       "       [433.29433419, 419.98037902],\n",
       "       [327.42802215, 313.78849648],\n",
       "       [524.63905661, 512.22699135],\n",
       "       [299.9826022 , 288.60335146],\n",
       "       [524.37589477, 511.4643444 ],\n",
       "       [368.08211956, 356.21535569],\n",
       "       [337.30333701, 328.82871824],\n",
       "       [376.17359848, 362.85090673],\n",
       "       [699.65907544, 681.7156419 ],\n",
       "       [292.04956161, 281.62661652],\n",
       "       [350.27975479, 336.25686755],\n",
       "       [497.45825732, 482.01839142],\n",
       "       [484.21336557, 472.80108883],\n",
       "       [528.35171839, 516.19661236],\n",
       "       [293.78638343, 286.86642494],\n",
       "       [424.00058444, 403.07112792],\n",
       "       [314.65011787, 302.18406191],\n",
       "       [313.01718805, 297.96035891],\n",
       "       [367.23766231, 354.33401777],\n",
       "       [338.71420458, 327.42693782],\n",
       "       [326.6388812 , 312.21962447],\n",
       "       [327.9663928 , 321.1277348 ],\n",
       "       [303.2273218 , 291.81526768],\n",
       "       [344.1427883 , 332.20234048],\n",
       "       [299.04784453, 292.66996344],\n",
       "       [487.7673442 , 475.80629713],\n",
       "       [599.18710709, 584.6689876 ],\n",
       "       [605.88224042, 590.59791065],\n",
       "       [292.59345427, 282.31500688],\n",
       "       [377.53084645, 365.18240347],\n",
       "       [383.65278788, 375.09898926],\n",
       "       [353.93063855, 345.3088719 ],\n",
       "       [540.96126463, 528.48030872],\n",
       "       [520.15513137, 509.00183937],\n",
       "       [342.94976116, 323.87314118],\n",
       "       [561.57759186, 545.59859019],\n",
       "       [662.96426426, 646.47711653],\n",
       "       [694.31555104, 675.65223457],\n",
       "       [606.25149299, 590.29623155],\n",
       "       [355.42754545, 343.59907849],\n",
       "       [316.36743049, 308.42623901],\n",
       "       [358.90007238, 350.85749441],\n",
       "       [327.48862564, 313.48659675],\n",
       "       [689.71244677, 670.75655043],\n",
       "       [375.65979563, 364.21308639],\n",
       "       [544.6426021 , 525.48653682],\n",
       "       [556.50252945, 540.0591348 ],\n",
       "       [457.44147567, 444.9811483 ],\n",
       "       [371.27216396, 362.68926629],\n",
       "       [529.39934031, 516.89098345],\n",
       "       [383.13308921, 371.86901174],\n",
       "       [354.31108279, 342.81874301],\n",
       "       [329.87773478, 322.79193793],\n",
       "       [339.10260147, 317.61153861],\n",
       "       [368.3831379 , 359.37105474],\n",
       "       [411.69865199, 392.06636466],\n",
       "       [301.5923975 , 295.41183136],\n",
       "       [504.6456415 , 491.82937305],\n",
       "       [365.31776884, 354.72086772],\n",
       "       [359.76864985, 347.4437392 ],\n",
       "       [363.86304559, 353.37310285],\n",
       "       [377.7598929 , 366.76134971],\n",
       "       [297.76443757, 290.61461637],\n",
       "       [314.00501469, 280.34558827],\n",
       "       [512.12463175, 498.46038054],\n",
       "       [357.11123016, 347.68568652],\n",
       "       [273.28291831, 265.71339465],\n",
       "       [496.19162994, 484.88942205],\n",
       "       [341.58535105, 326.19687018],\n",
       "       [384.85769034, 373.72197955],\n",
       "       [641.93268075, 624.062807  ],\n",
       "       [269.63557786, 254.31426008],\n",
       "       [552.95161037, 538.50933555],\n",
       "       [450.86353227, 438.24187043],\n",
       "       [431.68665449, 417.67133449],\n",
       "       [371.89908143, 355.73814283],\n",
       "       [433.50700229, 421.64057095],\n",
       "       [292.73378558, 280.59548777],\n",
       "       [521.59406848, 508.63539076],\n",
       "       [359.37163454, 350.55008631],\n",
       "       [288.03012305, 274.63518973],\n",
       "       [370.6120084 , 362.45000642],\n",
       "       [356.55790662, 344.02569247],\n",
       "       [320.10707068, 308.54870022],\n",
       "       [368.20135429, 356.599561  ],\n",
       "       [378.29826999, 368.9718175 ],\n",
       "       [490.56433292, 476.28403285],\n",
       "       [520.99802589, 509.12857019],\n",
       "       [367.85932523, 357.63344465],\n",
       "       [384.30386278, 372.37333209],\n",
       "       [676.29373899, 658.64470654],\n",
       "       [351.95287602, 342.06736754],\n",
       "       [307.58058784, 300.49242538],\n",
       "       [333.66122763, 325.20250114],\n",
       "       [374.67361028, 355.59482564],\n",
       "       [362.39099258, 353.0827443 ],\n",
       "       [509.65409399, 497.4540672 ],\n",
       "       [427.11104985, 417.45952073],\n",
       "       [308.92467023, 300.77103351],\n",
       "       [523.95124419, 508.71650389],\n",
       "       [351.62681944, 342.51874025],\n",
       "       [478.09252281, 463.92131428],\n",
       "       [376.67368822, 365.8789211 ],\n",
       "       [376.19176442, 366.69270388],\n",
       "       [490.2851049 , 478.84850764],\n",
       "       [354.13475445, 343.71952115],\n",
       "       [346.35982219, 316.13501152],\n",
       "       [539.86732092, 525.84803978],\n",
       "       [269.93664021, 260.72810389],\n",
       "       [377.94774293, 366.8158486 ],\n",
       "       [378.66517518, 369.23113039],\n",
       "       [596.28888549, 580.56040257],\n",
       "       [363.57708326, 352.16512681],\n",
       "       [372.32476962, 361.40427036],\n",
       "       [392.83280093, 377.37363075],\n",
       "       [337.74039864, 329.41139209],\n",
       "       [421.92662232, 407.44934288],\n",
       "       [309.49565163, 298.32019612],\n",
       "       [320.25061755, 312.41839774],\n",
       "       [316.45544394, 299.31749198],\n",
       "       [551.79296611, 538.07091051],\n",
       "       [326.28395148, 312.97744931],\n",
       "       [390.84040932, 381.61309772],\n",
       "       [263.50178058, 253.31147233],\n",
       "       [266.36356143, 254.75232792],\n",
       "       [274.65577465, 268.59120696],\n",
       "       [439.16948195, 426.91720661],\n",
       "       [588.25821225, 571.15467911],\n",
       "       [422.28984947, 405.33762483],\n",
       "       [467.88328959, 456.62352679],\n",
       "       [355.78224806, 344.93151876],\n",
       "       [373.09719143, 361.66468505],\n",
       "       [350.09306165, 339.81840706],\n",
       "       [367.65221826, 356.38348205]])"
      ]
     },
     "execution_count": 27,
     "metadata": {},
     "output_type": "execute_result"
    }
   ],
   "source": [
    "y_pred"
   ]
  },
  {
   "cell_type": "code",
   "execution_count": 28,
   "id": "21f60801-0827-4277-b3e4-5e394f7ef4f9",
   "metadata": {
    "tags": []
   },
   "outputs": [
    {
     "name": "stdout",
     "output_type": "stream",
     "text": [
      "RMSE:  3.5411655042064387\n",
      "R_Squared_value:  0.9988639722716328\n"
     ]
    }
   ],
   "source": [
    "metrics(y_test, y_pred)"
   ]
  },
  {
   "cell_type": "code",
   "execution_count": 19,
   "id": "c1ece28d-0cd6-4274-8477-ad217d196cb6",
   "metadata": {
    "tags": []
   },
   "outputs": [
    {
     "data": {
      "text/plain": [
       "99.37496240567036"
      ]
     },
     "execution_count": 19,
     "metadata": {},
     "output_type": "execute_result"
    }
   ],
   "source": [
    "accuracy(y_test, y_pred)"
   ]
  },
  {
   "cell_type": "code",
   "execution_count": null,
   "id": "cb879da8-80f7-4965-8bc0-6d4e70432c9c",
   "metadata": {},
   "outputs": [],
   "source": []
  }
 ],
 "metadata": {
  "kernelspec": {
   "display_name": "Python 3 (ipykernel)",
   "language": "python",
   "name": "python3"
  },
  "language_info": {
   "codemirror_mode": {
    "name": "ipython",
    "version": 3
   },
   "file_extension": ".py",
   "mimetype": "text/x-python",
   "name": "python",
   "nbconvert_exporter": "python",
   "pygments_lexer": "ipython3",
   "version": "3.12.2"
  }
 },
 "nbformat": 4,
 "nbformat_minor": 5
}
