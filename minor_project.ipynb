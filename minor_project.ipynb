{
 "cells": [
  {
   "cell_type": "code",
   "execution_count": 12,
   "id": "6b61a703-f977-4bd5-9836-6f665bb5e895",
   "metadata": {
    "tags": []
   },
   "outputs": [
    {
     "data": {
      "text/html": [
       "<div>\n",
       "<style scoped>\n",
       "    .dataframe tbody tr th:only-of-type {\n",
       "        vertical-align: middle;\n",
       "    }\n",
       "\n",
       "    .dataframe tbody tr th {\n",
       "        vertical-align: top;\n",
       "    }\n",
       "\n",
       "    .dataframe thead th {\n",
       "        text-align: right;\n",
       "    }\n",
       "</style>\n",
       "<table border=\"1\" class=\"dataframe\">\n",
       "  <thead>\n",
       "    <tr style=\"text-align: right;\">\n",
       "      <th></th>\n",
       "      <th>Date</th>\n",
       "      <th>Open</th>\n",
       "      <th>High</th>\n",
       "      <th>Low</th>\n",
       "      <th>Close</th>\n",
       "      <th>Adj Close</th>\n",
       "      <th>Volume</th>\n",
       "    </tr>\n",
       "  </thead>\n",
       "  <tbody>\n",
       "    <tr>\n",
       "      <th>0</th>\n",
       "      <td>2018-02-05</td>\n",
       "      <td>262.000000</td>\n",
       "      <td>267.899994</td>\n",
       "      <td>250.029999</td>\n",
       "      <td>254.259995</td>\n",
       "      <td>254.259995</td>\n",
       "      <td>11896100</td>\n",
       "    </tr>\n",
       "    <tr>\n",
       "      <th>1</th>\n",
       "      <td>2018-02-06</td>\n",
       "      <td>247.699997</td>\n",
       "      <td>266.700012</td>\n",
       "      <td>245.000000</td>\n",
       "      <td>265.720001</td>\n",
       "      <td>265.720001</td>\n",
       "      <td>12595800</td>\n",
       "    </tr>\n",
       "    <tr>\n",
       "      <th>2</th>\n",
       "      <td>2018-02-07</td>\n",
       "      <td>266.579987</td>\n",
       "      <td>272.450012</td>\n",
       "      <td>264.329987</td>\n",
       "      <td>264.559998</td>\n",
       "      <td>264.559998</td>\n",
       "      <td>8981500</td>\n",
       "    </tr>\n",
       "    <tr>\n",
       "      <th>3</th>\n",
       "      <td>2018-02-08</td>\n",
       "      <td>267.079987</td>\n",
       "      <td>267.619995</td>\n",
       "      <td>250.000000</td>\n",
       "      <td>250.100006</td>\n",
       "      <td>250.100006</td>\n",
       "      <td>9306700</td>\n",
       "    </tr>\n",
       "    <tr>\n",
       "      <th>4</th>\n",
       "      <td>2018-02-09</td>\n",
       "      <td>253.850006</td>\n",
       "      <td>255.800003</td>\n",
       "      <td>236.110001</td>\n",
       "      <td>249.470001</td>\n",
       "      <td>249.470001</td>\n",
       "      <td>16906900</td>\n",
       "    </tr>\n",
       "    <tr>\n",
       "      <th>...</th>\n",
       "      <td>...</td>\n",
       "      <td>...</td>\n",
       "      <td>...</td>\n",
       "      <td>...</td>\n",
       "      <td>...</td>\n",
       "      <td>...</td>\n",
       "      <td>...</td>\n",
       "    </tr>\n",
       "    <tr>\n",
       "      <th>1004</th>\n",
       "      <td>2022-01-31</td>\n",
       "      <td>401.970001</td>\n",
       "      <td>427.700012</td>\n",
       "      <td>398.200012</td>\n",
       "      <td>427.140015</td>\n",
       "      <td>427.140015</td>\n",
       "      <td>20047500</td>\n",
       "    </tr>\n",
       "    <tr>\n",
       "      <th>1005</th>\n",
       "      <td>2022-02-01</td>\n",
       "      <td>432.959991</td>\n",
       "      <td>458.480011</td>\n",
       "      <td>425.540009</td>\n",
       "      <td>457.130005</td>\n",
       "      <td>457.130005</td>\n",
       "      <td>22542300</td>\n",
       "    </tr>\n",
       "    <tr>\n",
       "      <th>1006</th>\n",
       "      <td>2022-02-02</td>\n",
       "      <td>448.250000</td>\n",
       "      <td>451.980011</td>\n",
       "      <td>426.480011</td>\n",
       "      <td>429.480011</td>\n",
       "      <td>429.480011</td>\n",
       "      <td>14346000</td>\n",
       "    </tr>\n",
       "    <tr>\n",
       "      <th>1007</th>\n",
       "      <td>2022-02-03</td>\n",
       "      <td>421.440002</td>\n",
       "      <td>429.260010</td>\n",
       "      <td>404.279999</td>\n",
       "      <td>405.600006</td>\n",
       "      <td>405.600006</td>\n",
       "      <td>9905200</td>\n",
       "    </tr>\n",
       "    <tr>\n",
       "      <th>1008</th>\n",
       "      <td>2022-02-04</td>\n",
       "      <td>407.309998</td>\n",
       "      <td>412.769989</td>\n",
       "      <td>396.640015</td>\n",
       "      <td>410.170013</td>\n",
       "      <td>410.170013</td>\n",
       "      <td>7782400</td>\n",
       "    </tr>\n",
       "  </tbody>\n",
       "</table>\n",
       "<p>1009 rows × 7 columns</p>\n",
       "</div>"
      ],
      "text/plain": [
       "            Date        Open        High         Low       Close   Adj Close  \\\n",
       "0     2018-02-05  262.000000  267.899994  250.029999  254.259995  254.259995   \n",
       "1     2018-02-06  247.699997  266.700012  245.000000  265.720001  265.720001   \n",
       "2     2018-02-07  266.579987  272.450012  264.329987  264.559998  264.559998   \n",
       "3     2018-02-08  267.079987  267.619995  250.000000  250.100006  250.100006   \n",
       "4     2018-02-09  253.850006  255.800003  236.110001  249.470001  249.470001   \n",
       "...          ...         ...         ...         ...         ...         ...   \n",
       "1004  2022-01-31  401.970001  427.700012  398.200012  427.140015  427.140015   \n",
       "1005  2022-02-01  432.959991  458.480011  425.540009  457.130005  457.130005   \n",
       "1006  2022-02-02  448.250000  451.980011  426.480011  429.480011  429.480011   \n",
       "1007  2022-02-03  421.440002  429.260010  404.279999  405.600006  405.600006   \n",
       "1008  2022-02-04  407.309998  412.769989  396.640015  410.170013  410.170013   \n",
       "\n",
       "        Volume  \n",
       "0     11896100  \n",
       "1     12595800  \n",
       "2      8981500  \n",
       "3      9306700  \n",
       "4     16906900  \n",
       "...        ...  \n",
       "1004  20047500  \n",
       "1005  22542300  \n",
       "1006  14346000  \n",
       "1007   9905200  \n",
       "1008   7782400  \n",
       "\n",
       "[1009 rows x 7 columns]"
      ]
     },
     "execution_count": 12,
     "metadata": {},
     "output_type": "execute_result"
    }
   ],
   "source": [
    "import pandas as pd\n",
    "import seaborn as sns\n",
    "df= pd.read_csv(r\"C:\\Users\\shash\\OneDrive\\Desktop\\Project\\Corizo\\Minor Project Data set (Stock Price Prediction) (1).csv\", encoding='latin-1')\n",
    "df"
   ]
  },
  {
   "cell_type": "code",
   "execution_count": 13,
   "id": "845cd760-453f-4f70-9302-bdec96f497b5",
   "metadata": {
    "tags": []
   },
   "outputs": [
    {
     "data": {
      "text/plain": [
       "Index(['Date', 'Open', 'High', 'Low', 'Close', 'Adj Close', 'Volume'], dtype='object')"
      ]
     },
     "execution_count": 13,
     "metadata": {},
     "output_type": "execute_result"
    }
   ],
   "source": [
    "df.columns"
   ]
  },
  {
   "cell_type": "code",
   "execution_count": 14,
   "id": "ee45f941-605b-4d6e-b234-48aae6493d57",
   "metadata": {
    "tags": []
   },
   "outputs": [
    {
     "data": {
      "text/plain": [
       "Index(['Date'], dtype='object')"
      ]
     },
     "execution_count": 14,
     "metadata": {},
     "output_type": "execute_result"
    }
   ],
   "source": [
    "df.select_dtypes(['object']).columns"
   ]
  },
  {
   "cell_type": "code",
   "execution_count": 15,
   "id": "615bf193-50a3-4f55-9ff5-aa14417f71b2",
   "metadata": {
    "tags": []
   },
   "outputs": [
    {
     "data": {
      "text/plain": [
       "<bound method NDFrame.describe of             Date        Open        High         Low       Close   Adj Close  \\\n",
       "0     2018-02-05  262.000000  267.899994  250.029999  254.259995  254.259995   \n",
       "1     2018-02-06  247.699997  266.700012  245.000000  265.720001  265.720001   \n",
       "2     2018-02-07  266.579987  272.450012  264.329987  264.559998  264.559998   \n",
       "3     2018-02-08  267.079987  267.619995  250.000000  250.100006  250.100006   \n",
       "4     2018-02-09  253.850006  255.800003  236.110001  249.470001  249.470001   \n",
       "...          ...         ...         ...         ...         ...         ...   \n",
       "1004  2022-01-31  401.970001  427.700012  398.200012  427.140015  427.140015   \n",
       "1005  2022-02-01  432.959991  458.480011  425.540009  457.130005  457.130005   \n",
       "1006  2022-02-02  448.250000  451.980011  426.480011  429.480011  429.480011   \n",
       "1007  2022-02-03  421.440002  429.260010  404.279999  405.600006  405.600006   \n",
       "1008  2022-02-04  407.309998  412.769989  396.640015  410.170013  410.170013   \n",
       "\n",
       "        Volume  \n",
       "0     11896100  \n",
       "1     12595800  \n",
       "2      8981500  \n",
       "3      9306700  \n",
       "4     16906900  \n",
       "...        ...  \n",
       "1004  20047500  \n",
       "1005  22542300  \n",
       "1006  14346000  \n",
       "1007   9905200  \n",
       "1008   7782400  \n",
       "\n",
       "[1009 rows x 7 columns]>"
      ]
     },
     "execution_count": 15,
     "metadata": {},
     "output_type": "execute_result"
    }
   ],
   "source": [
    "df.describe"
   ]
  },
  {
   "cell_type": "code",
   "execution_count": 16,
   "id": "f7bfe220-d591-40a5-922d-7df69a1a9f59",
   "metadata": {
    "tags": []
   },
   "outputs": [
    {
     "name": "stdout",
     "output_type": "stream",
     "text": [
      "<class 'pandas.core.frame.DataFrame'>\n",
      "RangeIndex: 1009 entries, 0 to 1008\n",
      "Data columns (total 7 columns):\n",
      " #   Column     Non-Null Count  Dtype  \n",
      "---  ------     --------------  -----  \n",
      " 0   Date       1009 non-null   object \n",
      " 1   Open       1009 non-null   float64\n",
      " 2   High       1009 non-null   float64\n",
      " 3   Low        1009 non-null   float64\n",
      " 4   Close      1009 non-null   float64\n",
      " 5   Adj Close  1009 non-null   float64\n",
      " 6   Volume     1009 non-null   int64  \n",
      "dtypes: float64(5), int64(1), object(1)\n",
      "memory usage: 55.3+ KB\n"
     ]
    }
   ],
   "source": [
    "df.info()"
   ]
  },
  {
   "cell_type": "code",
   "execution_count": 17,
   "id": "7a361b91-6ec2-4ed7-aa3c-6029ab714944",
   "metadata": {
    "tags": []
   },
   "outputs": [
    {
     "data": {
      "text/plain": [
       "Date         0\n",
       "Open         0\n",
       "High         0\n",
       "Low          0\n",
       "Close        0\n",
       "Adj Close    0\n",
       "Volume       0\n",
       "dtype: int64"
      ]
     },
     "execution_count": 17,
     "metadata": {},
     "output_type": "execute_result"
    }
   ],
   "source": [
    "df.isna().sum()"
   ]
  },
  {
   "cell_type": "code",
   "execution_count": 18,
   "id": "e21b82ee-c2c2-4dcf-9d90-e98d6fc8f567",
   "metadata": {
    "tags": []
   },
   "outputs": [
    {
     "data": {
      "text/html": [
       "<div>\n",
       "<style scoped>\n",
       "    .dataframe tbody tr th:only-of-type {\n",
       "        vertical-align: middle;\n",
       "    }\n",
       "\n",
       "    .dataframe tbody tr th {\n",
       "        vertical-align: top;\n",
       "    }\n",
       "\n",
       "    .dataframe thead th {\n",
       "        text-align: right;\n",
       "    }\n",
       "</style>\n",
       "<table border=\"1\" class=\"dataframe\">\n",
       "  <thead>\n",
       "    <tr style=\"text-align: right;\">\n",
       "      <th></th>\n",
       "      <th>Date</th>\n",
       "      <th>Open</th>\n",
       "      <th>High</th>\n",
       "      <th>Low</th>\n",
       "      <th>Close</th>\n",
       "      <th>Adj Close</th>\n",
       "      <th>Volume</th>\n",
       "    </tr>\n",
       "  </thead>\n",
       "  <tbody>\n",
       "    <tr>\n",
       "      <th>0</th>\n",
       "      <td>2018-02-05</td>\n",
       "      <td>262.000000</td>\n",
       "      <td>267.899994</td>\n",
       "      <td>250.029999</td>\n",
       "      <td>254.259995</td>\n",
       "      <td>254.259995</td>\n",
       "      <td>11896100</td>\n",
       "    </tr>\n",
       "    <tr>\n",
       "      <th>1</th>\n",
       "      <td>2018-02-06</td>\n",
       "      <td>247.699997</td>\n",
       "      <td>266.700012</td>\n",
       "      <td>245.000000</td>\n",
       "      <td>265.720001</td>\n",
       "      <td>265.720001</td>\n",
       "      <td>12595800</td>\n",
       "    </tr>\n",
       "    <tr>\n",
       "      <th>2</th>\n",
       "      <td>2018-02-07</td>\n",
       "      <td>266.579987</td>\n",
       "      <td>272.450012</td>\n",
       "      <td>264.329987</td>\n",
       "      <td>264.559998</td>\n",
       "      <td>264.559998</td>\n",
       "      <td>8981500</td>\n",
       "    </tr>\n",
       "    <tr>\n",
       "      <th>3</th>\n",
       "      <td>2018-02-08</td>\n",
       "      <td>267.079987</td>\n",
       "      <td>267.619995</td>\n",
       "      <td>250.000000</td>\n",
       "      <td>250.100006</td>\n",
       "      <td>250.100006</td>\n",
       "      <td>9306700</td>\n",
       "    </tr>\n",
       "    <tr>\n",
       "      <th>4</th>\n",
       "      <td>2018-02-09</td>\n",
       "      <td>253.850006</td>\n",
       "      <td>255.800003</td>\n",
       "      <td>236.110001</td>\n",
       "      <td>249.470001</td>\n",
       "      <td>249.470001</td>\n",
       "      <td>16906900</td>\n",
       "    </tr>\n",
       "  </tbody>\n",
       "</table>\n",
       "</div>"
      ],
      "text/plain": [
       "         Date        Open        High         Low       Close   Adj Close  \\\n",
       "0  2018-02-05  262.000000  267.899994  250.029999  254.259995  254.259995   \n",
       "1  2018-02-06  247.699997  266.700012  245.000000  265.720001  265.720001   \n",
       "2  2018-02-07  266.579987  272.450012  264.329987  264.559998  264.559998   \n",
       "3  2018-02-08  267.079987  267.619995  250.000000  250.100006  250.100006   \n",
       "4  2018-02-09  253.850006  255.800003  236.110001  249.470001  249.470001   \n",
       "\n",
       "     Volume  \n",
       "0  11896100  \n",
       "1  12595800  \n",
       "2   8981500  \n",
       "3   9306700  \n",
       "4  16906900  "
      ]
     },
     "execution_count": 18,
     "metadata": {},
     "output_type": "execute_result"
    }
   ],
   "source": [
    "df.head(5)"
   ]
  },
  {
   "cell_type": "code",
   "execution_count": 19,
   "id": "8d459472-b849-41bb-b684-29973385ce1d",
   "metadata": {
    "tags": []
   },
   "outputs": [
    {
     "data": {
      "text/html": [
       "<div>\n",
       "<style scoped>\n",
       "    .dataframe tbody tr th:only-of-type {\n",
       "        vertical-align: middle;\n",
       "    }\n",
       "\n",
       "    .dataframe tbody tr th {\n",
       "        vertical-align: top;\n",
       "    }\n",
       "\n",
       "    .dataframe thead th {\n",
       "        text-align: right;\n",
       "    }\n",
       "</style>\n",
       "<table border=\"1\" class=\"dataframe\">\n",
       "  <thead>\n",
       "    <tr style=\"text-align: right;\">\n",
       "      <th></th>\n",
       "      <th>Date</th>\n",
       "      <th>Open</th>\n",
       "      <th>High</th>\n",
       "      <th>Low</th>\n",
       "      <th>Close</th>\n",
       "      <th>Adj Close</th>\n",
       "      <th>Volume</th>\n",
       "    </tr>\n",
       "  </thead>\n",
       "  <tbody>\n",
       "    <tr>\n",
       "      <th>1004</th>\n",
       "      <td>2022-01-31</td>\n",
       "      <td>401.970001</td>\n",
       "      <td>427.700012</td>\n",
       "      <td>398.200012</td>\n",
       "      <td>427.140015</td>\n",
       "      <td>427.140015</td>\n",
       "      <td>20047500</td>\n",
       "    </tr>\n",
       "    <tr>\n",
       "      <th>1005</th>\n",
       "      <td>2022-02-01</td>\n",
       "      <td>432.959991</td>\n",
       "      <td>458.480011</td>\n",
       "      <td>425.540009</td>\n",
       "      <td>457.130005</td>\n",
       "      <td>457.130005</td>\n",
       "      <td>22542300</td>\n",
       "    </tr>\n",
       "    <tr>\n",
       "      <th>1006</th>\n",
       "      <td>2022-02-02</td>\n",
       "      <td>448.250000</td>\n",
       "      <td>451.980011</td>\n",
       "      <td>426.480011</td>\n",
       "      <td>429.480011</td>\n",
       "      <td>429.480011</td>\n",
       "      <td>14346000</td>\n",
       "    </tr>\n",
       "    <tr>\n",
       "      <th>1007</th>\n",
       "      <td>2022-02-03</td>\n",
       "      <td>421.440002</td>\n",
       "      <td>429.260010</td>\n",
       "      <td>404.279999</td>\n",
       "      <td>405.600006</td>\n",
       "      <td>405.600006</td>\n",
       "      <td>9905200</td>\n",
       "    </tr>\n",
       "    <tr>\n",
       "      <th>1008</th>\n",
       "      <td>2022-02-04</td>\n",
       "      <td>407.309998</td>\n",
       "      <td>412.769989</td>\n",
       "      <td>396.640015</td>\n",
       "      <td>410.170013</td>\n",
       "      <td>410.170013</td>\n",
       "      <td>7782400</td>\n",
       "    </tr>\n",
       "  </tbody>\n",
       "</table>\n",
       "</div>"
      ],
      "text/plain": [
       "            Date        Open        High         Low       Close   Adj Close  \\\n",
       "1004  2022-01-31  401.970001  427.700012  398.200012  427.140015  427.140015   \n",
       "1005  2022-02-01  432.959991  458.480011  425.540009  457.130005  457.130005   \n",
       "1006  2022-02-02  448.250000  451.980011  426.480011  429.480011  429.480011   \n",
       "1007  2022-02-03  421.440002  429.260010  404.279999  405.600006  405.600006   \n",
       "1008  2022-02-04  407.309998  412.769989  396.640015  410.170013  410.170013   \n",
       "\n",
       "        Volume  \n",
       "1004  20047500  \n",
       "1005  22542300  \n",
       "1006  14346000  \n",
       "1007   9905200  \n",
       "1008   7782400  "
      ]
     },
     "execution_count": 19,
     "metadata": {},
     "output_type": "execute_result"
    }
   ],
   "source": [
    "df.tail(5)"
   ]
  },
  {
   "cell_type": "markdown",
   "id": "01c8d60a-43f5-494a-8be2-3d993c79b7db",
   "metadata": {},
   "source": [
    "<h3> CORRELATION BETWEEN EVERY COLUMNS</h3>"
   ]
  },
  {
   "cell_type": "code",
   "execution_count": 20,
   "id": "52037987-dc30-46d7-88a9-2d0100078773",
   "metadata": {
    "tags": []
   },
   "outputs": [
    {
     "data": {
      "text/plain": [
       "Index(['Date', 'Open', 'High', 'Low', 'Close', 'Adj Close', 'Volume'], dtype='object')"
      ]
     },
     "execution_count": 20,
     "metadata": {},
     "output_type": "execute_result"
    }
   ],
   "source": [
    "df.columns"
   ]
  },
  {
   "cell_type": "code",
   "execution_count": 21,
   "id": "447560ae-4ac3-4e88-81e1-928d88c46e43",
   "metadata": {
    "tags": []
   },
   "outputs": [
    {
     "data": {
      "text/html": [
       "<div>\n",
       "<style scoped>\n",
       "    .dataframe tbody tr th:only-of-type {\n",
       "        vertical-align: middle;\n",
       "    }\n",
       "\n",
       "    .dataframe tbody tr th {\n",
       "        vertical-align: top;\n",
       "    }\n",
       "\n",
       "    .dataframe thead th {\n",
       "        text-align: right;\n",
       "    }\n",
       "</style>\n",
       "<table border=\"1\" class=\"dataframe\">\n",
       "  <thead>\n",
       "    <tr style=\"text-align: right;\">\n",
       "      <th></th>\n",
       "      <th>Open</th>\n",
       "      <th>High</th>\n",
       "      <th>Low</th>\n",
       "      <th>Close</th>\n",
       "      <th>Adj Close</th>\n",
       "      <th>Volume</th>\n",
       "    </tr>\n",
       "  </thead>\n",
       "  <tbody>\n",
       "    <tr>\n",
       "      <th>Open</th>\n",
       "      <td>1.000000</td>\n",
       "      <td>0.998605</td>\n",
       "      <td>0.998508</td>\n",
       "      <td>0.996812</td>\n",
       "      <td>0.996812</td>\n",
       "      <td>-0.415838</td>\n",
       "    </tr>\n",
       "    <tr>\n",
       "      <th>High</th>\n",
       "      <td>0.998605</td>\n",
       "      <td>1.000000</td>\n",
       "      <td>0.998203</td>\n",
       "      <td>0.998551</td>\n",
       "      <td>0.998551</td>\n",
       "      <td>-0.400699</td>\n",
       "    </tr>\n",
       "    <tr>\n",
       "      <th>Low</th>\n",
       "      <td>0.998508</td>\n",
       "      <td>0.998203</td>\n",
       "      <td>1.000000</td>\n",
       "      <td>0.998544</td>\n",
       "      <td>0.998544</td>\n",
       "      <td>-0.432116</td>\n",
       "    </tr>\n",
       "    <tr>\n",
       "      <th>Close</th>\n",
       "      <td>0.996812</td>\n",
       "      <td>0.998551</td>\n",
       "      <td>0.998544</td>\n",
       "      <td>1.000000</td>\n",
       "      <td>1.000000</td>\n",
       "      <td>-0.413362</td>\n",
       "    </tr>\n",
       "    <tr>\n",
       "      <th>Adj Close</th>\n",
       "      <td>0.996812</td>\n",
       "      <td>0.998551</td>\n",
       "      <td>0.998544</td>\n",
       "      <td>1.000000</td>\n",
       "      <td>1.000000</td>\n",
       "      <td>-0.413362</td>\n",
       "    </tr>\n",
       "    <tr>\n",
       "      <th>Volume</th>\n",
       "      <td>-0.415838</td>\n",
       "      <td>-0.400699</td>\n",
       "      <td>-0.432116</td>\n",
       "      <td>-0.413362</td>\n",
       "      <td>-0.413362</td>\n",
       "      <td>1.000000</td>\n",
       "    </tr>\n",
       "  </tbody>\n",
       "</table>\n",
       "</div>"
      ],
      "text/plain": [
       "               Open      High       Low     Close  Adj Close    Volume\n",
       "Open       1.000000  0.998605  0.998508  0.996812   0.996812 -0.415838\n",
       "High       0.998605  1.000000  0.998203  0.998551   0.998551 -0.400699\n",
       "Low        0.998508  0.998203  1.000000  0.998544   0.998544 -0.432116\n",
       "Close      0.996812  0.998551  0.998544  1.000000   1.000000 -0.413362\n",
       "Adj Close  0.996812  0.998551  0.998544  1.000000   1.000000 -0.413362\n",
       "Volume    -0.415838 -0.400699 -0.432116 -0.413362  -0.413362  1.000000"
      ]
     },
     "execution_count": 21,
     "metadata": {},
     "output_type": "execute_result"
    }
   ],
   "source": [
    "df[['Open', 'High', 'Low', 'Close', 'Adj Close', 'Volume']].corr()"
   ]
  },
  {
   "cell_type": "code",
   "execution_count": 22,
   "id": "9f8d2db0-1e72-4930-9996-d9675f563492",
   "metadata": {
    "tags": []
   },
   "outputs": [
    {
     "data": {
      "text/plain": [
       "<Axes: >"
      ]
     },
     "execution_count": 22,
     "metadata": {},
     "output_type": "execute_result"
    },
    {
     "data": {
      "image/png": "[encoded data removed]",
      "text/plain": [
       "<Figure size 640x480 with 2 Axes>"
      ]
     },
     "metadata": {},
     "output_type": "display_data"
    }
   ],
   "source": [
    "sns.heatmap(df[['Open', 'High', 'Low', 'Close', 'Adj Close', 'Volume']].corr(),\n",
    "            cmap=sns.cubehelix_palette(as_cmap=True))"
   ]
  },
  {
   "cell_type": "code",
   "execution_count": 23,
   "id": "a8e82e04-9852-4b11-85f5-3a2aafd8494f",
   "metadata": {
    "tags": []
   },
   "outputs": [
    {
     "data": {
      "text/html": [
       "<div>\n",
       "<style scoped>\n",
       "    .dataframe tbody tr th:only-of-type {\n",
       "        vertical-align: middle;\n",
       "    }\n",
       "\n",
       "    .dataframe tbody tr th {\n",
       "        vertical-align: top;\n",
       "    }\n",
       "\n",
       "    .dataframe thead th {\n",
       "        text-align: right;\n",
       "    }\n",
       "</style>\n",
       "<table border=\"1\" class=\"dataframe\">\n",
       "  <thead>\n",
       "    <tr style=\"text-align: right;\">\n",
       "      <th></th>\n",
       "      <th>Date</th>\n",
       "      <th>Open</th>\n",
       "      <th>High</th>\n",
       "      <th>Low</th>\n",
       "      <th>Close</th>\n",
       "      <th>Adj Close</th>\n",
       "      <th>Volume</th>\n",
       "    </tr>\n",
       "  </thead>\n",
       "  <tbody>\n",
       "    <tr>\n",
       "      <th>0</th>\n",
       "      <td>2018-02-05</td>\n",
       "      <td>262.000000</td>\n",
       "      <td>267.899994</td>\n",
       "      <td>250.029999</td>\n",
       "      <td>254.259995</td>\n",
       "      <td>254.259995</td>\n",
       "      <td>11896100</td>\n",
       "    </tr>\n",
       "    <tr>\n",
       "      <th>1</th>\n",
       "      <td>2018-02-06</td>\n",
       "      <td>247.699997</td>\n",
       "      <td>266.700012</td>\n",
       "      <td>245.000000</td>\n",
       "      <td>265.720001</td>\n",
       "      <td>265.720001</td>\n",
       "      <td>12595800</td>\n",
       "    </tr>\n",
       "    <tr>\n",
       "      <th>2</th>\n",
       "      <td>2018-02-07</td>\n",
       "      <td>266.579987</td>\n",
       "      <td>272.450012</td>\n",
       "      <td>264.329987</td>\n",
       "      <td>264.559998</td>\n",
       "      <td>264.559998</td>\n",
       "      <td>8981500</td>\n",
       "    </tr>\n",
       "  </tbody>\n",
       "</table>\n",
       "</div>"
      ],
      "text/plain": [
       "         Date        Open        High         Low       Close   Adj Close  \\\n",
       "0  2018-02-05  262.000000  267.899994  250.029999  254.259995  254.259995   \n",
       "1  2018-02-06  247.699997  266.700012  245.000000  265.720001  265.720001   \n",
       "2  2018-02-07  266.579987  272.450012  264.329987  264.559998  264.559998   \n",
       "\n",
       "     Volume  \n",
       "0  11896100  \n",
       "1  12595800  \n",
       "2   8981500  "
      ]
     },
     "execution_count": 23,
     "metadata": {},
     "output_type": "execute_result"
    }
   ],
   "source": [
    "df.head(3)"
   ]
  },
  {
   "cell_type": "code",
   "execution_count": 41,
   "id": "f2e7a3a6-2eb4-4f05-91da-17bdaad79fb1",
   "metadata": {},
   "outputs": [
    {
     "name": "stdout",
     "output_type": "stream",
     "text": [
      "Model score: 1.0\n"
     ]
    }
   ],
   "source": [
    "from sklearn.model_selection import train_test_split\n",
    "from sklearn.linear_model import LinearRegression\n",
    "\n",
    "# Separate features and target\n",
    "features = df.drop(['Open', 'Close', 'Adj Close', 'Volume', 'Date'], axis=1)\n",
    "target = df[['High','Low']]\n",
    "\n",
    "# Split the data into training and testing sets\n",
    "X_train, X_test, y_train, y_test = train_test_split(features, target, test_size=0.25, random_state=42)\n",
    "\n",
    "# Create a linear regression model\n",
    "model = LinearRegression()\n",
    "\n",
    "# Train the model\n",
    "model.fit(X_train, y_train)\n",
    "\n",
    "# Evaluate the model\n",
    "score = model.score(X_test, y_test)\n",
    "\n",
    "# Print the model score\n",
    "print(f\"Model score: {score}\")"
   ]
  },
  {
   "cell_type": "code",
   "execution_count": 42,
   "id": "bd559794-81a4-4c7c-906c-3429a31d30c3",
   "metadata": {},
   "outputs": [],
   "source": [
    "import numpy as np\n",
    "from sklearn.metrics import mean_squared_error, r2_score\n",
    "\n",
    "def metrics(y_true, y_pred):\n",
    "    print(f'RMSE: ',mean_squared_error(y_true, y_pred) ** 0.5)\n",
    "    print(f'R_Squared_value: ',r2_score(y_true, y_pred))\n",
    "    \n",
    "def accuracy(y_true, y_pred):\n",
    "    errors = abs(y_true - y_pred)\n",
    "    mape =  100* np.mean(errors/y_true)\n",
    "    accuracy = 100 - mape\n",
    "    return accuracy"
   ]
  },
  {
   "cell_type": "code",
   "execution_count": 46,
   "id": "b2de510d-b243-4f17-93b0-10c6c15d081f",
   "metadata": {
    "tags": []
   },
   "outputs": [],
   "source": [
    "y_pred= model.predict(X_test) "
   ]
  },
  {
   "cell_type": "code",
   "execution_count": 47,
   "id": "eed761dd-2eb1-4f7e-a4d0-9c665533864f",
   "metadata": {
    "tags": []
   },
   "outputs": [
    {
     "data": {
      "text/plain": [
       "array([[510.440002, 498.649994],\n",
       "       [508.290009, 486.679993],\n",
       "       [514.5     , 499.579987],\n",
       "       [387.320007, 377.899994],\n",
       "       [325.850006, 314.230011],\n",
       "       [488.98999 , 471.299988],\n",
       "       [497.470001, 481.630005],\n",
       "       [334.350006, 294.75    ],\n",
       "       [364.      , 353.940002],\n",
       "       [329.720001, 325.140015],\n",
       "       [528.130005, 515.440002],\n",
       "       [336.399994, 328.769989],\n",
       "       [600.409973, 581.599976],\n",
       "       [316.5     , 311.690002],\n",
       "       [341.779999, 330.799988],\n",
       "       [555.      , 543.700012],\n",
       "       [541.      , 530.179993],\n",
       "       [620.609985, 611.23999 ],\n",
       "       [361.75    , 349.359985],\n",
       "       [401.329987, 390.549988],\n",
       "       [394.799988, 378.100006],\n",
       "       [387.709991, 365.130005],\n",
       "       [271.179993, 260.609985],\n",
       "       [357.220001, 347.      ],\n",
       "       [437.959991, 425.179993],\n",
       "       [375.899994, 357.01001 ],\n",
       "       [311.880005, 305.299988],\n",
       "       [362.470001, 350.369995],\n",
       "       [302.880005, 296.200012],\n",
       "       [513.      , 507.200012],\n",
       "       [567.159973, 556.450012],\n",
       "       [516.630005, 508.200012],\n",
       "       [420.5     , 409.649994],\n",
       "       [340.      , 328.51001 ],\n",
       "       [513.23999 , 504.51001 ],\n",
       "       [354.      , 341.119995],\n",
       "       [591.      , 569.      ],\n",
       "       [298.720001, 284.579987],\n",
       "       [364.399994, 355.5     ],\n",
       "       [370.26001 , 363.170013],\n",
       "       [359.850006, 345.880005],\n",
       "       [362.980011, 344.790009],\n",
       "       [349.339996, 342.920013],\n",
       "       [616.880005, 607.570007],\n",
       "       [379.910004, 365.809998],\n",
       "       [365.940002, 359.929993],\n",
       "       [312.890015, 303.23999 ],\n",
       "       [640.390015, 606.890015],\n",
       "       [509.700012, 500.700012],\n",
       "       [552.840027, 545.450012],\n",
       "       [496.920013, 482.309998],\n",
       "       [524.159973, 501.179993],\n",
       "       [313.480011, 306.690002],\n",
       "       [494.799988, 484.5     ],\n",
       "       [429.      , 420.839996],\n",
       "       [583.98999 , 564.349976],\n",
       "       [316.640015, 305.679993],\n",
       "       [320.25    , 302.309998],\n",
       "       [331.440002, 320.230011],\n",
       "       [319.5     , 312.799988],\n",
       "       [515.630005, 505.369995],\n",
       "       [290.899994, 273.359985],\n",
       "       [285.809998, 276.609985],\n",
       "       [493.730011, 476.809998],\n",
       "       [520.789978, 512.969971],\n",
       "       [336.359985, 321.200012],\n",
       "       [296.359985, 288.5     ],\n",
       "       [291.720001, 281.      ],\n",
       "       [347.390015, 340.980011],\n",
       "       [632.179993, 622.099976],\n",
       "       [419.440002, 413.079987],\n",
       "       [272.980011, 261.079987],\n",
       "       [276.679993, 271.279999],\n",
       "       [341.299988, 328.899994],\n",
       "       [527.380005, 517.690002],\n",
       "       [376.769989, 356.799988],\n",
       "       [312.690002, 304.26001 ],\n",
       "       [638.409973, 620.590027],\n",
       "       [291.25    , 278.01001 ],\n",
       "       [449.519989, 431.609985],\n",
       "       [493.540009, 482.700012],\n",
       "       [371.540009, 364.869995],\n",
       "       [332.059998, 327.339996],\n",
       "       [363.839996, 358.100006],\n",
       "       [331.26001 , 324.869995],\n",
       "       [584.619995, 575.369995],\n",
       "       [503.149994, 486.109985],\n",
       "       [492.470001, 485.089996],\n",
       "       [368.850006, 362.25    ],\n",
       "       [554.869995, 538.530029],\n",
       "       [474.01001 , 464.5     ],\n",
       "       [665.820007, 649.710022],\n",
       "       [438.410004, 419.26001 ],\n",
       "       [280.529999, 265.029999],\n",
       "       [566.650024, 553.460022],\n",
       "       [385.029999, 378.269989],\n",
       "       [313.98999 , 292.299988],\n",
       "       [347.660004, 332.649994],\n",
       "       [365.980011, 362.      ],\n",
       "       [329.019989, 319.339996],\n",
       "       [505.100006, 498.540009],\n",
       "       [458.970001, 450.470001],\n",
       "       [281.769989, 266.480011],\n",
       "       [488.230011, 454.      ],\n",
       "       [400.51001 , 367.700012],\n",
       "       [368.420013, 362.220001],\n",
       "       [518.530029, 497.      ],\n",
       "       [526.380005, 518.650024],\n",
       "       [632.460022, 623.200012],\n",
       "       [685.940002, 665.5     ],\n",
       "       [509.25    , 493.540009],\n",
       "       [533.780029, 522.26001 ],\n",
       "       [515.210022, 502.51001 ],\n",
       "       [538.369995, 511.880005],\n",
       "       [374.5     , 368.350006],\n",
       "       [362.390015, 356.25    ],\n",
       "       [536.549988, 515.47998 ],\n",
       "       [375.649994, 357.720001],\n",
       "       [385.98999 , 373.170013],\n",
       "       [445.570007, 424.160004],\n",
       "       [331.600006, 310.929993],\n",
       "       [521.950012, 512.049988],\n",
       "       [298.940002, 292.019989],\n",
       "       [520.960022, 514.400024],\n",
       "       [366.709991, 356.700012],\n",
       "       [338.5     , 327.269989],\n",
       "       [375.920013, 360.399994],\n",
       "       [700.98999 , 686.090027],\n",
       "       [293.410004, 281.140015],\n",
       "       [350.079987, 337.649994],\n",
       "       [495.140015, 482.      ],\n",
       "       [484.869995, 468.029999],\n",
       "       [526.840027, 519.390015],\n",
       "       [295.390015, 287.160004],\n",
       "       [427.700012, 398.200012],\n",
       "       [331.579987, 300.      ],\n",
       "       [309.980011, 292.619995],\n",
       "       [367.      , 351.649994],\n",
       "       [336.420013, 307.390015],\n",
       "       [325.839996, 313.279999],\n",
       "       [326.420013, 322.799988],\n",
       "       [298.950012, 291.690002],\n",
       "       [346.839996, 336.5     ],\n",
       "       [299.929993, 294.98999 ],\n",
       "       [488.609985, 477.720001],\n",
       "       [599.320007, 589.130005],\n",
       "       [602.289978, 588.130005],\n",
       "       [292.5     , 282.160004],\n",
       "       [383.01001 , 366.440002],\n",
       "       [381.399994, 375.559998],\n",
       "       [352.420013, 345.399994],\n",
       "       [538.539978, 529.390015],\n",
       "       [519.349976, 512.210022],\n",
       "       [341.089996, 328.519989],\n",
       "       [563.359985, 542.01001 ],\n",
       "       [660.5     , 650.52002 ],\n",
       "       [689.969971, 676.539978],\n",
       "       [609.450012, 593.669983],\n",
       "       [352.209991, 342.269989],\n",
       "       [317.100006, 310.399994],\n",
       "       [359.440002, 353.790009],\n",
       "       [335.720001, 307.320007],\n",
       "       [687.679993, 673.820007],\n",
       "       [380.230011, 361.019989],\n",
       "       [554.      , 521.320007],\n",
       "       [557.539978, 538.200012],\n",
       "       [453.970001, 445.600006],\n",
       "       [370.98999 , 360.059998],\n",
       "       [528.369995, 514.299988],\n",
       "       [381.899994, 373.269989],\n",
       "       [354.26001 , 343.100006],\n",
       "       [329.859985, 325.529999],\n",
       "       [336.299988, 323.600006],\n",
       "       [365.700012, 359.329987],\n",
       "       [410.      , 395.079987],\n",
       "       [301.799988, 297.25    ],\n",
       "       [509.470001, 491.980011],\n",
       "       [364.540009, 347.850006],\n",
       "       [360.      , 346.519989],\n",
       "       [365.      , 355.320007],\n",
       "       [380.290009, 361.709991],\n",
       "       [297.429993, 289.779999],\n",
       "       [308.75    , 288.299988],\n",
       "       [510.100006, 501.200012],\n",
       "       [359.630005, 346.279999],\n",
       "       [273.920013, 266.630005],\n",
       "       [494.850006, 486.589996],\n",
       "       [341.5     , 329.700012],\n",
       "       [384.76001 , 377.5     ],\n",
       "       [639.419983, 625.159973],\n",
       "       [269.899994, 251.880005],\n",
       "       [559.47998 , 537.51001 ],\n",
       "       [450.459991, 439.220001],\n",
       "       [427.170013, 415.880005],\n",
       "       [366.5     , 361.75    ],\n",
       "       [434.730011, 420.309998],\n",
       "       [290.809998, 283.059998],\n",
       "       [526.51001 , 506.589996],\n",
       "       [357.880005, 348.709991],\n",
       "       [295.73999 , 274.720001],\n",
       "       [370.850006, 363.200012],\n",
       "       [356.100006, 346.709991],\n",
       "       [317.      , 307.339996],\n",
       "       [366.959991, 356.799988],\n",
       "       [378.109985, 369.720001],\n",
       "       [491.149994, 475.839996],\n",
       "       [519.789978, 510.959991],\n",
       "       [368.329987, 358.51001 ],\n",
       "       [386.109985, 375.589996],\n",
       "       [675.880005, 657.070007],\n",
       "       [352.399994, 342.779999],\n",
       "       [306.480011, 298.809998],\n",
       "       [331.950012, 327.51001 ],\n",
       "       [374.48999 , 360.      ],\n",
       "       [360.130005, 353.799988],\n",
       "       [511.76001 , 502.529999],\n",
       "       [426.720001, 415.980011],\n",
       "       [311.48999 , 302.440002],\n",
       "       [529.549988, 503.600006],\n",
       "       [349.950012, 342.5     ],\n",
       "       [479.399994, 458.600006],\n",
       "       [374.76001 , 365.700012],\n",
       "       [375.140015, 366.23999 ],\n",
       "       [488.570007, 478.540009],\n",
       "       [353.609985, 343.25    ],\n",
       "       [338.619995, 323.769989],\n",
       "       [545.5     , 523.150024],\n",
       "       [272.450012, 264.329987],\n",
       "       [378.390015, 368.309998],\n",
       "       [376.660004, 372.      ],\n",
       "       [590.280029, 580.849976],\n",
       "       [368.559998, 353.      ],\n",
       "       [371.450012, 365.      ],\n",
       "       [387.      , 372.079987],\n",
       "       [336.700012, 330.299988],\n",
       "       [420.019989, 397.859985],\n",
       "       [309.369995, 300.359985],\n",
       "       [319.399994, 314.51001 ],\n",
       "       [316.799988, 301.649994],\n",
       "       [555.47998 , 538.929993],\n",
       "       [328.559998, 311.      ],\n",
       "       [389.700012, 376.679993],\n",
       "       [267.619995, 250.      ],\n",
       "       [266.25    , 253.800003],\n",
       "       [274.019989, 268.799988],\n",
       "       [439.089996, 427.179993],\n",
       "       [592.840027, 566.880005],\n",
       "       [416.790009, 407.799988],\n",
       "       [467.01001 , 454.      ],\n",
       "       [354.359985, 348.829987],\n",
       "       [369.679993, 363.329987],\n",
       "       [357.470001, 341.720001],\n",
       "       [363.      , 355.51001 ]])"
      ]
     },
     "execution_count": 47,
     "metadata": {},
     "output_type": "execute_result"
    }
   ],
   "source": [
    "y_pred"
   ]
  },
  {
   "cell_type": "code",
   "execution_count": 45,
   "id": "21f60801-0827-4277-b3e4-5e394f7ef4f9",
   "metadata": {
    "tags": []
   },
   "outputs": [
    {
     "name": "stdout",
     "output_type": "stream",
     "text": [
      "RMSE:  7.102618333036746e-14\n",
      "R_Squared_value:  1.0\n"
     ]
    }
   ],
   "source": [
    "metrics(y_test, y_pred)"
   ]
  },
  {
   "cell_type": "code",
   "execution_count": 38,
   "id": "c1ece28d-0cd6-4274-8477-ad217d196cb6",
   "metadata": {
    "tags": []
   },
   "outputs": [
    {
     "data": {
      "text/plain": [
       "99.99999999999999"
      ]
     },
     "execution_count": 38,
     "metadata": {},
     "output_type": "execute_result"
    }
   ],
   "source": [
    "accuracy(y_test, y_pred)"
   ]
  },
  {
   "cell_type": "code",
   "execution_count": null,
   "id": "cb879da8-80f7-4965-8bc0-6d4e70432c9c",
   "metadata": {},
   "outputs": [],
   "source": []
  }
 ],
 "metadata": {
  "kernelspec": {
   "display_name": "Python 3 (ipykernel)",
   "language": "python",
   "name": "python3"
  },
  "language_info": {
   "codemirror_mode": {
    "name": "ipython",
    "version": 3
   },
   "file_extension": ".py",
   "mimetype": "text/x-python",
   "name": "python",
   "nbconvert_exporter": "python",
   "pygments_lexer": "ipython3",
   "version": "3.11.5"
  }
 },
 "nbformat": 4,
 "nbformat_minor": 5
}
